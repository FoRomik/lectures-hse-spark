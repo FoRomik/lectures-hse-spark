{
 "cells": [
  {
   "cell_type": "code",
   "execution_count": null,
   "metadata": {},
   "outputs": [],
   "source": [
    "%load_ext autoreload\n",
    "%autoreload 2\n",
    "import logging\n",
    "logging.basicConfig(level=logging.ERROR)"
   ]
  },
  {
   "cell_type": "code",
   "execution_count": null,
   "metadata": {},
   "outputs": [],
   "source": [
    "%%file mrjoin.py\n",
    "import os\n",
    "from mrjob.job import MRJob\n",
    "\n",
    "class MRJoin(MRJob):\n",
    "    \n",
    "    SORT_VALUES = True  # performs secondary sort\n",
    "\n",
    "    def mapper(self, key, line):\n",
    "        map_input_file = os.environ['map_input_file']\n",
    "        map_input_file = map_input_file.split('/')[-1]\n",
    "        values = line.split('|')\n",
    "        # TODO: yield key and value depending on file name\n",
    "\n",
    "    def reducer(self, key, values):\n",
    "        # TODO: yield country_full_name, candidate_name"
   ]
  },
  {
   "cell_type": "code",
   "execution_count": null,
   "metadata": {},
   "outputs": [],
   "source": [
    "import mrjoin\n",
    "\n",
    "job = mrjoin.MRJoin(args=['../data/countries.dat', '../data/customers.dat'])\n",
    "with job.make_runner() as runner:\n",
    "    runner.run()\n",
    "    for k, v in job.parse_output(runner.cat_output()):\n",
    "        print(k, v)"
   ]
  },
  {
   "cell_type": "code",
   "execution_count": null,
   "metadata": {},
   "outputs": [],
   "source": []
  }
 ],
 "metadata": {
  "kernelspec": {
   "display_name": "Python 3",
   "language": "python",
   "name": "python3"
  },
  "language_info": {
   "codemirror_mode": {
    "name": "ipython",
    "version": 3
   },
   "file_extension": ".py",
   "mimetype": "text/x-python",
   "name": "python",
   "nbconvert_exporter": "python",
   "pygments_lexer": "ipython3",
   "version": "3.6.4"
  }
 },
 "nbformat": 4,
 "nbformat_minor": 1
}
