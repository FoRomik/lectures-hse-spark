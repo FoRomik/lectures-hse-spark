{
 "cells": [
  {
   "cell_type": "code",
   "execution_count": null,
   "metadata": {},
   "outputs": [],
   "source": [
    "%load_ext autoreload\n",
    "%autoreload 2\n",
    "import logging\n",
    "logging.basicConfig(level=logging.ERROR)"
   ]
  },
  {
   "cell_type": "code",
   "execution_count": null,
   "metadata": {},
   "outputs": [],
   "source": [
    "%%file mrlogit.py\n",
    "import math\n",
    "from mrjob.job import MRJob\n",
    "\n",
    "\n",
    "def parse_line(line):\n",
    "    values = [float(v) for v in line.split(',')]\n",
    "    return values[0], [1.] + values[1:]\n",
    "    \n",
    "def y(x, w):\n",
    "    return 0.5  # TODO: implement logit function\n",
    "\n",
    "\n",
    "class MRLogit(MRJob):\n",
    "        \n",
    "    def configure_args(self):\n",
    "        super(MRLogit, self).configure_args()\n",
    "        self.add_passthru_arg('--weights', type=str)\n",
    "        \n",
    "    def mapper(self, _, line):\n",
    "        w = [float(e) for e in self.options.weights.split(',')]\n",
    "        t, x = parse_line(line)\n",
    "        yield None, 0  # TODO: yield intermediate gradient values\n",
    "\n",
    "    def reducer(self, key, values):\n",
    "        yield None, 0  # TODO: calculate final gradient values "
   ]
  },
  {
   "cell_type": "code",
   "execution_count": null,
   "metadata": {},
   "outputs": [],
   "source": [
    "def loss():\n",
    "    with open('../data/logit.txt') as src:\n",
    "        res, count = 0., 0.\n",
    "        for line in src:\n",
    "            t, x = parse_line(line)\n",
    "            y = predict(x, w)\n",
    "            res += - (t * math.log(y + 1e-32) + (1. - t) * math.log(1. - y + 1e-32))\n",
    "            count += 1\n",
    "        return res / count"
   ]
  },
  {
   "cell_type": "code",
   "execution_count": null,
   "metadata": {},
   "outputs": [],
   "source": [
    "import math\n",
    "import random\n",
    "from mrlogit import MRLogit\n",
    "from mrlogit import parse_line\n",
    "from mrlogit import y as predict\n",
    "\n",
    "random.seed(123)\n",
    "w = [random.random() for i in range(3)]\n",
    "a = 1e-1\n",
    "\n",
    "loss_data = []\n",
    "for i in range(100):\n",
    "    _w = ','.join(map(str, w))\n",
    "    job = MRLogit(args=['../data/logit.txt', '--weights', _w])\n",
    "    with job.make_runner() as runner:\n",
    "        runner.run()\n",
    "        for k, v in job.parse_output(runner.cat_output()):\n",
    "            # TODO: update weights\n",
    "            pass\n",
    "\n",
    "    loss_data.append(loss())\n",
    "    if i % 10 == 0:\n",
    "        print(loss())"
   ]
  },
  {
   "cell_type": "code",
   "execution_count": null,
   "metadata": {
    "scrolled": false
   },
   "outputs": [],
   "source": [
    "%matplotlib inline\n",
    "from matplotlib import pyplot as plt\n",
    "\n",
    "with open('../data/logit.txt') as src:\n",
    "    data = [[float(v) for v in line.split(',')] for line in src]\n",
    "\n",
    "data_0_x1 = [v[1] for v in data if v[0] == 0]\n",
    "data_0_x2 = [v[2] for v in data if v[0] == 0]\n",
    "\n",
    "data_1_x1 = [v[1] for v in data if v[0] == 1]\n",
    "data_1_x2 = [v[2] for v in data if v[0] == 1]\n",
    "\n",
    "x1 = sorted([v[1] for v in data])\n",
    "x2 = [- w[0] / w[2] - x * w[1] / w[2] for x in x1]\n",
    "\n",
    "# plot objects and hyperplane\n",
    "plt.figure(figsize=(10,7))\n",
    "plt.plot(x1, x2, '-',\n",
    "         data_0_x1, data_0_x2, 'or',\n",
    "         data_1_x1, data_1_x2, 'og')"
   ]
  }
 ],
 "metadata": {
  "kernelspec": {
   "display_name": "Python 3",
   "language": "python",
   "name": "python3"
  },
  "language_info": {
   "codemirror_mode": {
    "name": "ipython",
    "version": 3
   },
   "file_extension": ".py",
   "mimetype": "text/x-python",
   "name": "python",
   "nbconvert_exporter": "python",
   "pygments_lexer": "ipython3",
   "version": "3.6.4"
  }
 },
 "nbformat": 4,
 "nbformat_minor": 1
}
