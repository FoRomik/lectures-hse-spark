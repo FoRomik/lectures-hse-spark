{
 "cells": [
  {
   "cell_type": "code",
   "execution_count": null,
   "metadata": {
    "collapsed": true
   },
   "outputs": [],
   "source": [
    "from pyspark import SparkContext\n",
    "from pyspark.streaming import StreamingContext\n",
    "\n",
    "# create local SparkContext with 2 threads\n",
    "sc = SparkContext(master='local[2]', appName='Simple Streaming')"
   ]
  },
  {
   "cell_type": "raw",
   "metadata": {
    "collapsed": true
   },
   "source": [
    "# docker exec -it <container-id> /bin/bash\n",
    "# run the following command from linux console\n",
    "# to start streaming data:\n",
    "# !nc -lk 9999"
   ]
  },
  {
   "cell_type": "code",
   "execution_count": null,
   "metadata": {
    "collapsed": true
   },
   "outputs": [],
   "source": [
    "# create StreamingContext instance with 15sec batch duration\n",
    "streaming = StreamingContext(sc, batchDuration=15)\n",
    "\n",
    "# create DStream from localhost:port\n",
    "lines_ds = streaming.socketTextStream(hostname='localhost', port=9999)\n",
    "\n",
    "# count words in each 15sec stream batch\n",
    "words_ds = lines_ds.flatMap(lambda line: line.lower().split())\n",
    "counts_ds = words_ds.map(lambda word: (word, 1)) \\\n",
    "                    .reduceByKey(lambda x, y: x + y)\n",
    "\n",
    "# output first 10 elements of each RDD\n",
    "counts_ds.pprint(num=10)\n",
    "\n",
    "# TODO: count words, lines and charactes in each 15sec stream batch"
   ]
  },
  {
   "cell_type": "code",
   "execution_count": null,
   "metadata": {
    "collapsed": true
   },
   "outputs": [],
   "source": [
    "# start spark stream processing\n",
    "streaming.start()\n",
    "\n",
    "# run until terminated\n",
    "streaming.awaitTermination()"
   ]
  }
 ],
 "metadata": {
  "kernelspec": {
   "display_name": "Python 3",
   "language": "python",
   "name": "python3"
  },
  "language_info": {
   "codemirror_mode": {
    "name": "ipython",
    "version": 3
   },
   "file_extension": ".py",
   "mimetype": "text/x-python",
   "name": "python",
   "nbconvert_exporter": "python",
   "pygments_lexer": "ipython3",
   "version": "3.4.3"
  }
 },
 "nbformat": 4,
 "nbformat_minor": 2
}
