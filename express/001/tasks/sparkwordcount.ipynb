{
 "cells": [
  {
   "cell_type": "code",
   "execution_count": null,
   "metadata": {},
   "outputs": [],
   "source": [
    "from pyspark import SparkContext\n",
    "# creating spark context\n",
    "sc = SparkContext('local', 'WordCount App')"
   ]
  },
  {
   "cell_type": "code",
   "execution_count": null,
   "metadata": {},
   "outputs": [],
   "source": [
    "# loading text from file\n",
    "with open('../data/idiot.txt') as src:\n",
    "    text = src.readlines()\n",
    "\n",
    "# making RDD from text lines\n",
    "text_rdd = sc.parallelize(text)\n",
    "\n",
    "# counting word entries and storing result as RDD\n",
    "wc_rdd = text_rdd.flatMap(lambda line: line.split()) \\\n",
    "                 .map(lambda word: (word, 1)) \\\n",
    "                 .reduceByKey(lambda x, y: x + y)\n",
    "        \n",
    "# output random word counts\n",
    "print('Word count: %s' % wc_rdd.take(5))\n",
    "\n",
    "# top 5 most frequent words\n",
    "most_frequent = wc_rdd.top(5, key=lambda k_v: k_v[1])\n",
    "print('Most frequent: %s' % most_frequent)"
   ]
  }
 ],
 "metadata": {
  "kernelspec": {
   "display_name": "Python 3",
   "language": "python",
   "name": "python3"
  },
  "language_info": {
   "codemirror_mode": {
    "name": "ipython",
    "version": 3
   },
   "file_extension": ".py",
   "mimetype": "text/x-python",
   "name": "python",
   "nbconvert_exporter": "python",
   "pygments_lexer": "ipython3",
   "version": "3.5.2"
  }
 },
 "nbformat": 4,
 "nbformat_minor": 1
}
