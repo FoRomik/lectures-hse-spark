{
 "cells": [
  {
   "cell_type": "code",
   "execution_count": 1,
   "metadata": {
    "collapsed": false,
    "deletable": true,
    "editable": true
   },
   "outputs": [],
   "source": [
    "from pyspark import SparkContext\n",
    "# creating spark context\n",
    "sc = SparkContext('local', 'WordCount App')"
   ]
  },
  {
   "cell_type": "code",
   "execution_count": 6,
   "metadata": {
    "collapsed": false,
    "deletable": true,
    "editable": true
   },
   "outputs": [
    {
     "name": "stdout",
     "output_type": "stream",
     "text": [
      "[(31, 'and'), (29, 'the'), (24, 'you'), (24, 'that'), (20, 'of'), (15, 'your'), (15, 'in'), (14, 'a'), (12, 'with'), (12, 'is')]\n"
     ]
    }
   ],
   "source": [
    "# loading text from file\n",
    "with open('../data/idiot.txt') as src:\n",
    "    text = src.readlines()\n",
    "\n",
    "# making RDD from text lines\n",
    "text_rdd = sc.parallelize(text)\n",
    "\n",
    "# counting word entries and storing result as RDD\n",
    "wc_rdd = text_rdd.flatMap(lambda line: line.split()) \\\n",
    "                    .map(lambda word: (word, 1)) \\\n",
    "                    .reduceByKey(lambda x, y: x + y)\n",
    "\n",
    "# output 10 most frequent words\n",
    "most_frequent = wc_rdd.map(lambda e: e[::-1]).top(10)\n",
    "print(most_frequent)\n",
    "        \n",
    "# # getting result back to client        \n",
    "# wc = wc_rdd.collect()\n",
    "# \n",
    "# # output 10 most frequent words\n",
    "# print sorted(wc, key=lambda e: -e[-1])[:10]"
   ]
  }
 ],
 "metadata": {
  "kernelspec": {
   "display_name": "Python 3",
   "language": "python",
   "name": "python3"
  },
  "language_info": {
   "codemirror_mode": {
    "name": "ipython",
    "version": 3
   },
   "file_extension": ".py",
   "mimetype": "text/x-python",
   "name": "python",
   "nbconvert_exporter": "python",
   "pygments_lexer": "ipython3",
   "version": "3.5.2"
  }
 },
 "nbformat": 4,
 "nbformat_minor": 0
}
