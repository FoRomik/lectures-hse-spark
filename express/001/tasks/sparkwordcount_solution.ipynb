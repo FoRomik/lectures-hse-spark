{
 "cells": [
  {
   "cell_type": "code",
   "execution_count": 1,
   "metadata": {
    "collapsed": true
   },
   "outputs": [],
   "source": [
    "from pyspark import SparkContext\n",
    "# creating spark context\n",
    "sc = SparkContext('local', 'WordCount App')"
   ]
  },
  {
   "cell_type": "code",
   "execution_count": 24,
   "metadata": {},
   "outputs": [
    {
     "name": "stdout",
     "output_type": "stream",
     "text": [
      "Stats: [('lines', 17), ('words', 798), ('chars', 4580)]\n",
      "Shortest line: b'Beauty will save the world.\\n'\n"
     ]
    }
   ],
   "source": [
    "# loading text from file\n",
    "with open('../data/idiot.txt', 'rb') as src:\n",
    "    text = src.readlines()\n",
    "\n",
    "# making RDD from text lines\n",
    "text_rdd = sc.parallelize(text)\n",
    "\n",
    "def process_line(line):\n",
    "    return [('lines', 1), \n",
    "            ('words', len(line.split())),\n",
    "            ('chars', len(line))]\n",
    "\n",
    "# stats\n",
    "stats_rdd = text_rdd.flatMap(process_line) \\\n",
    "                    .reduceByKey(lambda x, y: x + y)\n",
    "    \n",
    "print('Stats: %s' % stats_rdd.collect())\n",
    "\n",
    "# shortest line\n",
    "shortest_line = text_rdd.reduce(lambda x, y: x if len(x) < len(y) else y)\n",
    "    \n",
    "print('Shortest line: %s' % shortest_line)"
   ]
  },
  {
   "cell_type": "code",
   "execution_count": null,
   "metadata": {
    "collapsed": true
   },
   "outputs": [],
   "source": []
  }
 ],
 "metadata": {
  "kernelspec": {
   "display_name": "Python 3",
   "language": "python",
   "name": "python3"
  },
  "language_info": {
   "codemirror_mode": {
    "name": "ipython",
    "version": 3
   },
   "file_extension": ".py",
   "mimetype": "text/x-python",
   "name": "python",
   "nbconvert_exporter": "python",
   "pygments_lexer": "ipython3",
   "version": "3.5.2"
  }
 },
 "nbformat": 4,
 "nbformat_minor": 1
}
