{
 "cells": [
  {
   "cell_type": "code",
   "execution_count": 1,
   "metadata": {
    "collapsed": true
   },
   "outputs": [],
   "source": [
    "from pyspark.sql import SparkSession\n",
    "spark = SparkSession.builder.appName('ALS').getOrCreate()"
   ]
  },
  {
   "cell_type": "code",
   "execution_count": 2,
   "metadata": {},
   "outputs": [
    {
     "name": "stdout",
     "output_type": "stream",
     "text": [
      "1,31,2.5,1260759144\r",
      "\r\n",
      "1,1029,3.0,1260759179\r",
      "\r\n",
      "1,1061,3.0,1260759182\r",
      "\r\n",
      "1,1129,2.0,1260759185\r",
      "\r\n",
      "1,1172,4.0,1260759205\r",
      "\r\n",
      "1,1263,2.0,1260759151\r",
      "\r\n",
      "1,1287,2.0,1260759187\r",
      "\r\n",
      "1,1293,2.0,1260759148\r",
      "\r\n",
      "1,1339,3.5,1260759125\r",
      "\r\n",
      "1,1343,2.0,1260759131\r",
      "\r\n"
     ]
    }
   ],
   "source": [
    "!head ../data/ratings.csv"
   ]
  },
  {
   "cell_type": "code",
   "execution_count": 3,
   "metadata": {},
   "outputs": [
    {
     "name": "stdout",
     "output_type": "stream",
     "text": [
      "+--------+------+-------+\n",
      "|movie_id|rating|user_id|\n",
      "+--------+------+-------+\n",
      "|      31|   2.5|      1|\n",
      "|    1029|   3.0|      1|\n",
      "|    1061|   3.0|      1|\n",
      "|    1129|   2.0|      1|\n",
      "|    1172|   4.0|      1|\n",
      "|    1263|   2.0|      1|\n",
      "|    1287|   2.0|      1|\n",
      "|    1293|   2.0|      1|\n",
      "|    1339|   3.5|      1|\n",
      "|    1343|   2.0|      1|\n",
      "|    1371|   2.5|      1|\n",
      "|    1405|   1.0|      1|\n",
      "|    1953|   4.0|      1|\n",
      "|    2105|   4.0|      1|\n",
      "|    2150|   3.0|      1|\n",
      "|    2193|   2.0|      1|\n",
      "|    2294|   2.0|      1|\n",
      "|    2455|   2.5|      1|\n",
      "|    2968|   1.0|      1|\n",
      "|    3671|   3.0|      1|\n",
      "+--------+------+-------+\n",
      "only showing top 20 rows\n",
      "\n"
     ]
    }
   ],
   "source": [
    "from pyspark.sql import Row\n",
    "\n",
    "ratings_rdd = spark.sparkContext \\\n",
    "                   .textFile('../data/ratings.csv') \\\n",
    "                   .map(lambda line: line.split(',')) \\\n",
    "                   .map(lambda values: Row(user_id=int(values[0]), \n",
    "                                           movie_id=int(values[1]), \n",
    "                                           rating=float(values[2])))\n",
    "\n",
    "ratings_df = spark.createDataFrame(ratings_rdd)\n",
    "ratings_df.show()"
   ]
  },
  {
   "cell_type": "code",
   "execution_count": 9,
   "metadata": {
    "collapsed": true
   },
   "outputs": [],
   "source": [
    "from pyspark.ml.recommendation import ALS\n",
    "\n",
    "(training, test) = ratings_df.randomSplit([0.8, 0.2])\n",
    "\n",
    "# TODO: train ALS model with rank=8, maxIter=10 \n",
    "# and nonnegative=True\n",
    "\n",
    "als = ALS(rank=8, \n",
    "          maxIter=10, \n",
    "          userCol='user_id',\n",
    "          itemCol='movie_id')\n",
    "\n",
    "model = als.fit(training)"
   ]
  },
  {
   "cell_type": "code",
   "execution_count": 10,
   "metadata": {
    "collapsed": true
   },
   "outputs": [],
   "source": [
    "from pyspark.ml.evaluation import RegressionEvaluator\n",
    "from pyspark.sql.functions import isnan\n",
    "\n",
    "# TODO: make predictions for test data\n",
    "\n",
    "pred = model.transform(test)\n",
    "\n",
    "evaluator = RegressionEvaluator(metricName='rmse',\n",
    "                                labelCol='rating',\n",
    "                                predictionCol='prediction')\n",
    "\n",
    "\n",
    "# TODO: evaluate predictions with RegressionEvaluator\n",
    "# NOTE: remove records with isnan('prediction') == True"
   ]
  },
  {
   "cell_type": "code",
   "execution_count": 14,
   "metadata": {},
   "outputs": [
    {
     "data": {
      "text/plain": [
       "0.9168141598305382"
      ]
     },
     "execution_count": 14,
     "metadata": {},
     "output_type": "execute_result"
    }
   ],
   "source": [
    "evaluator.evaluate(pred.filter(~isnan('prediction')))"
   ]
  },
  {
   "cell_type": "code",
   "execution_count": 15,
   "metadata": {
    "collapsed": true
   },
   "outputs": [],
   "source": [
    "pred_filtered = pred.filter(~isnan('prediction'))"
   ]
  },
  {
   "cell_type": "code",
   "execution_count": 18,
   "metadata": {},
   "outputs": [
    {
     "name": "stdout",
     "output_type": "stream",
     "text": [
      "+--------+------+-------+----------+\n",
      "|movie_id|rating|user_id|prediction|\n",
      "+--------+------+-------+----------+\n",
      "|     463|   2.0|    452| 2.8102794|\n",
      "|     471|   3.0|    588| 3.6835876|\n",
      "|     471|   5.0|    126| 3.7061648|\n",
      "|     471|   3.0|    440| 3.2982986|\n",
      "|     471|   3.0|    306| 3.6193082|\n",
      "|     471|   3.0|    452| 3.6841536|\n",
      "|     471|   4.5|    299|  4.564473|\n",
      "|     471|   4.0|    585| 4.0434856|\n",
      "|     471|   5.0|    399| 3.6553977|\n",
      "|     471|   4.0|    468| 3.3675385|\n",
      "|     496|   2.0|    497| 2.3909516|\n",
      "|     496|   3.0|    509|  2.233948|\n",
      "|     833|   4.5|    296| 2.1368804|\n",
      "|    1088|   3.0|    580| 2.6765797|\n",
      "|    1088|   4.0|    372| 3.5060534|\n",
      "|    1088|   4.0|    500|  3.418509|\n",
      "|    1088|   2.0|    262| 1.5738536|\n",
      "|    1088|   3.0|    358| 2.9140196|\n",
      "|    1088|   4.0|    160| 4.2165084|\n",
      "|    1088|   3.0|    213| 2.3162425|\n",
      "+--------+------+-------+----------+\n",
      "only showing top 20 rows\n",
      "\n"
     ]
    }
   ],
   "source": [
    "pred_filtered.show()"
   ]
  },
  {
   "cell_type": "code",
   "execution_count": 19,
   "metadata": {},
   "outputs": [
    {
     "name": "stdout",
     "output_type": "stream",
     "text": [
      "             precision    recall  f1-score   support\n",
      "\n",
      "        0.0       0.10      0.02      0.03       206\n",
      "        1.0       0.20      0.09      0.13       601\n",
      "        2.0       0.37      0.29      0.32      2466\n",
      "        3.0       0.30      0.58      0.39      3938\n",
      "        4.0       0.59      0.56      0.57      9169\n",
      "        5.0       0.56      0.17      0.26      2959\n",
      "        6.0       0.00      0.00      0.00         0\n",
      "\n",
      "avg / total       0.48      0.45      0.44     19339\n",
      "\n"
     ]
    },
    {
     "name": "stderr",
     "output_type": "stream",
     "text": [
      "/usr/local/lib/python3.5/site-packages/sklearn/metrics/classification.py:1115: UndefinedMetricWarning: Recall and F-score are ill-defined and being set to 0.0 in labels with no true samples.\n",
      "  'recall', 'true', average, warn_for)\n"
     ]
    }
   ],
   "source": [
    "import numpy as np\n",
    "from sklearn.metrics import classification_report\n",
    "y_pred = np.array(pred_filtered.select(['prediction'])\\\n",
    "                  .collect())\n",
    "y_target = np.array(pred_filtered.select(['rating'])\\\n",
    "                    .collect())\n",
    "\n",
    "print(classification_report(np.round(y_target),\n",
    "                            np.round(y_pred)))"
   ]
  },
  {
   "cell_type": "code",
   "execution_count": 11,
   "metadata": {},
   "outputs": [
    {
     "name": "stdout",
     "output_type": "stream",
     "text": [
      "+--------+------+-------+----------+\n",
      "|movie_id|rating|user_id|prediction|\n",
      "+--------+------+-------+----------+\n",
      "|     148|   4.0|    575|       NaN|\n",
      "|     463|   2.0|    452| 2.8102794|\n",
      "|     471|   3.0|    588| 3.6835876|\n",
      "|     471|   5.0|    126| 3.7061648|\n",
      "|     471|   3.0|    440| 3.2982986|\n",
      "|     471|   3.0|    306| 3.6193082|\n",
      "|     471|   3.0|    452| 3.6841536|\n",
      "|     471|   4.5|    299|  4.564473|\n",
      "|     471|   4.0|    585| 4.0434856|\n",
      "|     471|   5.0|    399| 3.6553977|\n",
      "|     471|   4.0|    468| 3.3675385|\n",
      "|     496|   2.0|    497| 2.3909516|\n",
      "|     496|   3.0|    509|  2.233948|\n",
      "|     833|   4.5|    296| 2.1368804|\n",
      "|    1088|   3.0|    580| 2.6765797|\n",
      "|    1088|   4.0|    372| 3.5060534|\n",
      "|    1088|   4.0|    500|  3.418509|\n",
      "|    1088|   2.0|    262| 1.5738536|\n",
      "|    1088|   3.0|    358| 2.9140196|\n",
      "|    1088|   4.0|    160| 4.2165084|\n",
      "+--------+------+-------+----------+\n",
      "only showing top 20 rows\n",
      "\n"
     ]
    }
   ],
   "source": [
    "pred.show()"
   ]
  },
  {
   "cell_type": "code",
   "execution_count": null,
   "metadata": {
    "collapsed": true
   },
   "outputs": [],
   "source": []
  }
 ],
 "metadata": {
  "kernelspec": {
   "display_name": "Python 3",
   "language": "python",
   "name": "python3"
  },
  "language_info": {
   "codemirror_mode": {
    "name": "ipython",
    "version": 3
   },
   "file_extension": ".py",
   "mimetype": "text/x-python",
   "name": "python",
   "nbconvert_exporter": "python",
   "pygments_lexer": "ipython3",
   "version": "3.5.2"
  }
 },
 "nbformat": 4,
 "nbformat_minor": 2
}
