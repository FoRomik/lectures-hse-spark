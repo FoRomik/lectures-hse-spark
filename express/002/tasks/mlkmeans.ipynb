{
 "cells": [
  {
   "cell_type": "code",
   "execution_count": 1,
   "metadata": {
    "collapsed": true
   },
   "outputs": [],
   "source": [
    "# init SparkContext\n",
    "from pyspark import SparkContext\n",
    "sc = SparkContext('local', 'K-means')"
   ]
  },
  {
   "cell_type": "code",
   "execution_count": 2,
   "metadata": {
    "collapsed": true
   },
   "outputs": [],
   "source": [
    "# load data from csv file\n",
    "data_rdd = sc.textFile('../data/digits.csv') \\\n",
    "             .map(lambda line: (line.split(',', 1)[0],\n",
    "                                list(map(float, line.split(',')[1:]))))"
   ]
  },
  {
   "cell_type": "code",
   "execution_count": 3,
   "metadata": {},
   "outputs": [
    {
     "name": "stdout",
     "output_type": "stream",
     "text": [
      "('0', [0.0, 0.0, 5.0, 13.0, 9.0, 1.0, 0.0, 0.0, 0.0, 0.0, 13.0, 15.0, 10.0, 15.0, 5.0, 0.0, 0.0, 3.0, 15.0, 2.0, 0.0, 11.0, 8.0, 0.0, 0.0, 4.0, 12.0, 0.0, 0.0, 8.0, 8.0, 0.0, 0.0, 5.0, 8.0, 0.0, 0.0, 9.0, 8.0, 0.0, 0.0, 4.0, 11.0, 0.0, 1.0, 12.0, 7.0, 0.0, 0.0, 2.0, 14.0, 5.0, 10.0, 12.0, 0.0, 0.0, 0.0, 0.0, 6.0, 13.0, 10.0, 0.0, 0.0, 0.0])\n"
     ]
    },
    {
     "data": {
      "image/png": "[encoded data removed]",
      "text/plain": [
       "<matplotlib.figure.Figure at 0x104f9d630>"
      ]
     },
     "metadata": {},
     "output_type": "display_data"
    }
   ],
   "source": [
    "# display sample data\n",
    "%matplotlib inline\n",
    "import numpy as np\n",
    "import matplotlib.pyplot as plt\n",
    "\n",
    "sample = data_rdd.take(5)\n",
    "print(sample[0])\n",
    "\n",
    "fig = plt.figure(figsize=(20, 10))\n",
    "for i, (y, x) in enumerate(sample, 1):\n",
    "    subplot = fig.add_subplot(1, len(sample), i)\n",
    "    plt.imshow(np.array(x).reshape((8, 8)), cmap='gray');\n",
    "    subplot.set_title('Training: %s' % y);"
   ]
  },
  {
   "cell_type": "code",
   "execution_count": 5,
   "metadata": {},
   "outputs": [
    {
     "name": "stdout",
     "output_type": "stream",
     "text": [
      "+--------------------+-----+\n",
      "|            features|label|\n",
      "+--------------------+-----+\n",
      "|[0.0,0.0,5.0,13.0...|    0|\n",
      "|[0.0,0.0,0.0,12.0...|    1|\n",
      "|[0.0,0.0,0.0,4.0,...|    2|\n",
      "|[0.0,0.0,7.0,15.0...|    3|\n",
      "|[0.0,0.0,0.0,1.0,...|    4|\n",
      "+--------------------+-----+\n",
      "only showing top 5 rows\n",
      "\n"
     ]
    }
   ],
   "source": [
    "from pyspark.sql import Row\n",
    "from pyspark.sql import SparkSession\n",
    "from pyspark.ml.linalg import Vectors\n",
    "\n",
    "spark = SparkSession.builder.getOrCreate()\n",
    "\n",
    "data_df = data_rdd.map(lambda v: Row(\n",
    "                label=v[0], \n",
    "                features=Vectors.dense(v[1]))).toDF()\n",
    "\n",
    "data_df.show(5)"
   ]
  },
  {
   "cell_type": "code",
   "execution_count": null,
   "metadata": {
    "collapsed": true
   },
   "outputs": [],
   "source": [
    "from pyspark.ml.feature import StandardScaler\n",
    "\n",
    "scaler = StandardScaler(withMean=True, \n",
    "                        withStd=True,\n",
    "                        inputCol='features',\n",
    "                        outputCol='scaled_features')\n",
    "\n",
    "# TODO: preprocess data: scale and center to zero"
   ]
  },
  {
   "cell_type": "code",
   "execution_count": null,
   "metadata": {
    "collapsed": true
   },
   "outputs": [],
   "source": [
    "from pyspark.ml.clustering import KMeans\n",
    "\n",
    "# TODO: cluster data using KMeans"
   ]
  },
  {
   "cell_type": "code",
   "execution_count": null,
   "metadata": {
    "collapsed": true
   },
   "outputs": [],
   "source": [
    "# TODO: examine model summary: kmeans_model.summary\n"
   ]
  },
  {
   "cell_type": "code",
   "execution_count": null,
   "metadata": {
    "collapsed": true
   },
   "outputs": [],
   "source": [
    "# TODO: get prediction using kmeans_model.transform\n"
   ]
  },
  {
   "cell_type": "code",
   "execution_count": null,
   "metadata": {
    "collapsed": true
   },
   "outputs": [],
   "source": [
    "# visualize results\n",
    "%matplotlib inline\n",
    "import matplotlib.pyplot as plt\n",
    "\n",
    "from itertools import groupby\n",
    "from operator import itemgetter\n",
    "from collections import Counter\n",
    "\n",
    "from sklearn.decomposition import PCA\n",
    "\n",
    "# predict cluster labels and load results to driver program\n",
    "prediction = prediction_frame.select('prediction',\n",
    "                                     'label', \n",
    "                                     'scaled_features').collect()\n",
    "\n",
    "X = np.array([cluster_label_x[2] for cluster_label_x in prediction])\n",
    "clusters = [cluster_label_x[0] for cluster_label_x in prediction]\n",
    "labels = [cluster_label_x[1] for cluster_label_x in prediction]\n",
    "\n",
    "# reduce feature space dimention\n",
    "X_reduced = PCA(n_components=2).fit_transform(X)\n",
    "\n",
    "# map prediction to original labels\n",
    "cluster_to_label = dict((c, Counter(map(itemgetter(1), v)).most_common()[0][0])\n",
    "                        for c, v in groupby(sorted(zip(clusters, labels)),\n",
    "                                            key=itemgetter(0)))\n",
    "\n",
    "clusters = [cluster_to_label[cluster] for cluster in clusters]\n",
    "\n",
    "# show results\n",
    "fig = plt.figure(figsize=(20, 10))\n",
    "\n",
    "subplot = fig.add_subplot(1, 2, 1)\n",
    "plt.scatter(X_reduced[:,0], X_reduced[:,1], c=labels);\n",
    "subplot.set_title('Original');\n",
    "\n",
    "subplot = fig.add_subplot(1, 2, 2)\n",
    "plt.scatter(X_reduced[:,0], X_reduced[:,1], c=clusters);\n",
    "subplot.set_title('Prediction');"
   ]
  },
  {
   "cell_type": "code",
   "execution_count": null,
   "metadata": {
    "collapsed": true
   },
   "outputs": [],
   "source": [
    "# compute cost\n",
    "from sklearn.metrics import accuracy_score\n",
    "from sklearn.metrics import confusion_matrix\n",
    "\n",
    "# Return the K-means cost (sum of squared distances of points to their nearest center)\n",
    "# for this model on the given data.\n",
    "print('K-Means cost: %s' % kmeans_model.computeCost(scaled_frame))\n",
    "\n",
    "print(confusion_matrix(labels, clusters))\n",
    "print('Accuracy score: %.3f' % accuracy_score(labels, clusters))"
   ]
  }
 ],
 "metadata": {
  "kernelspec": {
   "display_name": "Python 3",
   "language": "python",
   "name": "python3"
  },
  "language_info": {
   "codemirror_mode": {
    "name": "ipython",
    "version": 3
   },
   "file_extension": ".py",
   "mimetype": "text/x-python",
   "name": "python",
   "nbconvert_exporter": "python",
   "pygments_lexer": "ipython3",
   "version": "3.5.2"
  }
 },
 "nbformat": 4,
 "nbformat_minor": 2
}
