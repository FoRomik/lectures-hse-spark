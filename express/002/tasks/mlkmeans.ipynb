{
 "cells": [
  {
   "cell_type": "code",
   "execution_count": null,
   "metadata": {
    "collapsed": true
   },
   "outputs": [],
   "source": [
    "# init SparkContext\n",
    "from pyspark import SparkContext\n",
    "sc = SparkContext('local', 'K-means')"
   ]
  },
  {
   "cell_type": "code",
   "execution_count": null,
   "metadata": {
    "collapsed": true
   },
   "outputs": [],
   "source": [
    "# load data from csv file\n",
    "data_rdd = sc.textFile('../data/digits.csv') \\\n",
    "             .map(lambda line: (line.split(',', 1)[0],\n",
    "                                list(map(float, line.split(',')[1:]))))"
   ]
  },
  {
   "cell_type": "code",
   "execution_count": null,
   "metadata": {
    "collapsed": true
   },
   "outputs": [],
   "source": [
    "# display sample data\n",
    "%matplotlib inline\n",
    "import numpy as np\n",
    "import matplotlib.pyplot as plt\n",
    "\n",
    "sample = data_rdd.take(5)\n",
    "print(sample[0])\n",
    "\n",
    "fig = plt.figure(figsize=(20, 10))\n",
    "for i, (y, x) in enumerate(sample, 1):\n",
    "    subplot = fig.add_subplot(1, len(sample), i)\n",
    "    plt.imshow(np.array(x).reshape((8, 8)), cmap='gray');\n",
    "    subplot.set_title('Training: %s' % y);"
   ]
  },
  {
   "cell_type": "code",
   "execution_count": null,
   "metadata": {
    "collapsed": true
   },
   "outputs": [],
   "source": [
    "from pyspark.sql import Row\n",
    "from pyspark.sql import SparkSession\n",
    "from pyspark.ml.linalg import Vectors\n",
    "\n",
    "# TODO: init SparkSession and create DataFrame"
   ]
  },
  {
   "cell_type": "code",
   "execution_count": null,
   "metadata": {
    "collapsed": true
   },
   "outputs": [],
   "source": [
    "from pyspark.ml.feature import StandardScaler\n",
    "\n",
    "# TODO: preprocess data: scale and center to zero"
   ]
  },
  {
   "cell_type": "code",
   "execution_count": null,
   "metadata": {
    "collapsed": true
   },
   "outputs": [],
   "source": [
    "from pyspark.ml.clustering import KMeans\n",
    "\n",
    "# TODO: cluster data using KMeans"
   ]
  },
  {
   "cell_type": "code",
   "execution_count": null,
   "metadata": {
    "collapsed": true
   },
   "outputs": [],
   "source": [
    "# TODO: examine model summary: kmeans_model.summary\n"
   ]
  },
  {
   "cell_type": "code",
   "execution_count": null,
   "metadata": {
    "collapsed": true
   },
   "outputs": [],
   "source": [
    "# TODO: get prediction using kmeans_model.transform\n"
   ]
  },
  {
   "cell_type": "code",
   "execution_count": null,
   "metadata": {
    "collapsed": true
   },
   "outputs": [],
   "source": [
    "# visualize results\n",
    "%matplotlib inline\n",
    "import matplotlib.pyplot as plt\n",
    "\n",
    "from itertools import groupby\n",
    "from operator import itemgetter\n",
    "from collections import Counter\n",
    "\n",
    "from sklearn.decomposition import PCA\n",
    "\n",
    "# predict cluster labels and load results to driver program\n",
    "prediction = prediction_frame.select('prediction',\n",
    "                                     'label', \n",
    "                                     'scaled_features').collect()\n",
    "\n",
    "X = np.array([cluster_label_x[2] for cluster_label_x in prediction])\n",
    "clusters = [cluster_label_x[0] for cluster_label_x in prediction]\n",
    "labels = [cluster_label_x[1] for cluster_label_x in prediction]\n",
    "\n",
    "# reduce feature space dimention\n",
    "X_reduced = PCA(n_components=2).fit_transform(X)\n",
    "\n",
    "# map prediction to original labels\n",
    "cluster_to_label = dict((c, Counter(map(itemgetter(1), v)).most_common()[0][0])\n",
    "                        for c, v in groupby(sorted(zip(clusters, labels)),\n",
    "                                            key=itemgetter(0)))\n",
    "\n",
    "clusters = [cluster_to_label[cluster] for cluster in clusters]\n",
    "\n",
    "# show results\n",
    "fig = plt.figure(figsize=(20, 10))\n",
    "\n",
    "subplot = fig.add_subplot(1, 2, 1)\n",
    "plt.scatter(X_reduced[:,0], X_reduced[:,1], c=labels);\n",
    "subplot.set_title('Original');\n",
    "\n",
    "subplot = fig.add_subplot(1, 2, 2)\n",
    "plt.scatter(X_reduced[:,0], X_reduced[:,1], c=clusters);\n",
    "subplot.set_title('Prediction');"
   ]
  },
  {
   "cell_type": "code",
   "execution_count": null,
   "metadata": {
    "collapsed": true
   },
   "outputs": [],
   "source": [
    "# compute cost\n",
    "from sklearn.metrics import accuracy_score\n",
    "from sklearn.metrics import confusion_matrix\n",
    "\n",
    "# Return the K-means cost (sum of squared distances of points to their nearest center)\n",
    "# for this model on the given data.\n",
    "print('K-Means cost: %s' % kmeans_model.computeCost(scaled_frame))\n",
    "\n",
    "print(confusion_matrix(labels, clusters))\n",
    "print('Accuracy score: %.3f' % accuracy_score(labels, clusters))"
   ]
  }
 ],
 "metadata": {
  "kernelspec": {
   "display_name": "Python 3",
   "language": "python",
   "name": "python3"
  },
  "language_info": {
   "codemirror_mode": {
    "name": "ipython",
    "version": 3
   },
   "file_extension": ".py",
   "mimetype": "text/x-python",
   "name": "python",
   "nbconvert_exporter": "python",
   "pygments_lexer": "ipython3",
   "version": "3.5.2"
  }
 },
 "nbformat": 4,
 "nbformat_minor": 2
}
